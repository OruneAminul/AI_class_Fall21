{
  "nbformat": 4,
  "nbformat_minor": 0,
  "metadata": {
    "accelerator": "GPU",
    "colab": {
      "name": "Untitled0.ipynb",
      "provenance": [],
      "collapsed_sections": [],
      "toc_visible": true,
      "mount_file_id": "1My3PtJ78vkppm86_gzswZizaADbT4ZOp",
      "authorship_tag": "ABX9TyNOs0w4NlWDBhgW9q9JHYZM",
      "include_colab_link": true
    },
    "kernelspec": {
      "display_name": "Python 3",
      "name": "python3"
    },
    "language_info": {
      "name": "python"
    }
  },
  "cells": [
    {
      "cell_type": "markdown",
      "metadata": {
        "id": "view-in-github",
        "colab_type": "text"
      },
      "source": [
        "<a href=\"https://colab.research.google.com/github/OruneAminul/AI_class_Fall21/blob/main/Untitled0.ipynb\" target=\"_parent\"><img src=\"https://colab.research.google.com/assets/colab-badge.svg\" alt=\"Open In Colab\"/></a>"
      ]
    },
    {
      "cell_type": "code",
      "metadata": {
        "id": "mCZBh_oFiVRA"
      },
      "source": [
        "import h5py\n",
        "import pandas as pd"
      ],
      "execution_count": 1,
      "outputs": []
    },
    {
      "cell_type": "code",
      "metadata": {
        "colab": {
          "base_uri": "https://localhost:8080/"
        },
        "id": "5McruDskfXWf",
        "outputId": "06b178aa-4dc6-4bf4-ae5a-2eeb1ddeddde"
      },
      "source": [
        "import tensorflow as tf\n",
        "import numpy as np\n",
        "import pandas as pd\n",
        "import matplotlib.pyplot as plt\n",
        "import sklearn.metrics\n",
        "import pickle\n",
        "device_name=tf.test.gpu_device_name()\n",
        "if device_name != '/device:GPU:0':\n",
        "  raise SystemError('GPU not found')\n",
        "print ('Found GPU at: {}'.format(device_name))"
      ],
      "execution_count": 3,
      "outputs": [
        {
          "output_type": "stream",
          "name": "stdout",
          "text": [
            "Found GPU at: /device:GPU:0\n"
          ]
        }
      ]
    },
    {
      "cell_type": "code",
      "metadata": {
        "id": "LGY8t63WjJpO"
      },
      "source": [
        "data = h5py.File(\"/content/drive/MyDrive/VDISC_train.hdf5\",'r')\n",
        "data_v = h5py.File(\"/content/drive/MyDrive/VDISC_validate.hdf5\",'r')\n",
        "data_ts = h5py.File(\"/content/drive/MyDrive/VDISC_test.hdf5\",'r')"
      ],
      "execution_count": 4,
      "outputs": []
    },
    {
      "cell_type": "code",
      "metadata": {
        "id": "fQG0VwNDkcRZ"
      },
      "source": [
        "data.visit(print)\n"
      ],
      "execution_count": null,
      "outputs": []
    },
    {
      "cell_type": "code",
      "metadata": {
        "id": "Zs3jauwIjPXI"
      },
      "source": [
        "mydf = pd.DataFrame(list(data['functionSource']))\n",
        "mydf_v = pd.DataFrame(list(data_v['functionSource']))\n",
        "mydf_ts = pd.DataFrame(list(data_ts['functionSource']))"
      ],
      "execution_count": 5,
      "outputs": []
    },
    {
      "cell_type": "code",
      "metadata": {
        "id": "1t84GduPjPnt"
      },
      "source": [
        "mydf['CWE-119']=list(data['CWE-119']); mydf['CWE-120']=list(data['CWE-120']); mydf['CWE-469']=list(data['CWE-469']); mydf['CWE-476']=list(data['CWE-476']); mydf['CWE-other']=list(data['CWE-other'])"
      ],
      "execution_count": 6,
      "outputs": []
    },
    {
      "cell_type": "code",
      "metadata": {
        "id": "QhKqo-4NeSSB"
      },
      "source": [
        "mydf_v['CWE-119']=list(data_v['CWE-119']); mydf_v['CWE-120']=list(data_v['CWE-120']); mydf_v['CWE-469']=list(data_v['CWE-469']); mydf_v['CWE-476']=list(data_v['CWE-476']); mydf_v['CWE-other']=list(data_v['CWE-other'])"
      ],
      "execution_count": 7,
      "outputs": []
    },
    {
      "cell_type": "code",
      "metadata": {
        "id": "5vpw9NCKe0Q2"
      },
      "source": [
        "mydf_ts['CWE-119']=list(data_ts['CWE-119']); mydf_ts['CWE-120']=list(data_ts['CWE-120']); mydf_ts['CWE-469']=list(data_ts['CWE-469']); mydf_ts['CWE-476']=list(data_ts['CWE-476']); mydf_ts['CWE-other']=list(data_ts['CWE-other'])"
      ],
      "execution_count": 8,
      "outputs": []
    },
    {
      "cell_type": "code",
      "metadata": {
        "id": "mX0qLEjzjciV",
        "colab": {
          "base_uri": "https://localhost:8080/",
          "height": 204
        },
        "outputId": "f351fdfb-b6dd-46e9-e7ca-0a388995a523"
      },
      "source": [
        "mydf.rename(columns={0:'functionSource'},inplace=True)\n",
        "mydf.iloc[0:5,0:]\n",
        "mydf_v.rename(columns={0:'functionSource'},inplace=True)\n",
        "mydf_v.iloc[0:5,0:]\n",
        "mydf_ts.rename(columns={0:'functionSource'},inplace=True)\n",
        "mydf_ts.iloc[0:5,0:]"
      ],
      "execution_count": 9,
      "outputs": [
        {
          "output_type": "execute_result",
          "data": {
            "text/html": [
              "<div>\n",
              "<style scoped>\n",
              "    .dataframe tbody tr th:only-of-type {\n",
              "        vertical-align: middle;\n",
              "    }\n",
              "\n",
              "    .dataframe tbody tr th {\n",
              "        vertical-align: top;\n",
              "    }\n",
              "\n",
              "    .dataframe thead th {\n",
              "        text-align: right;\n",
              "    }\n",
              "</style>\n",
              "<table border=\"1\" class=\"dataframe\">\n",
              "  <thead>\n",
              "    <tr style=\"text-align: right;\">\n",
              "      <th></th>\n",
              "      <th>functionSource</th>\n",
              "      <th>CWE-119</th>\n",
              "      <th>CWE-120</th>\n",
              "      <th>CWE-469</th>\n",
              "      <th>CWE-476</th>\n",
              "      <th>CWE-other</th>\n",
              "    </tr>\n",
              "  </thead>\n",
              "  <tbody>\n",
              "    <tr>\n",
              "      <th>0</th>\n",
              "      <td>b'default_event_handler( \\n    GuiWidget *widg...</td>\n",
              "      <td>False</td>\n",
              "      <td>False</td>\n",
              "      <td>False</td>\n",
              "      <td>False</td>\n",
              "      <td>False</td>\n",
              "    </tr>\n",
              "    <tr>\n",
              "      <th>1</th>\n",
              "      <td>b'krb5_krbhst_init_flags(krb5_context context,...</td>\n",
              "      <td>False</td>\n",
              "      <td>False</td>\n",
              "      <td>False</td>\n",
              "      <td>False</td>\n",
              "      <td>False</td>\n",
              "    </tr>\n",
              "    <tr>\n",
              "      <th>2</th>\n",
              "      <td>b'swap_info_get(swp_entry_t entry)\\n{\\n\\tstruc...</td>\n",
              "      <td>False</td>\n",
              "      <td>False</td>\n",
              "      <td>False</td>\n",
              "      <td>False</td>\n",
              "      <td>False</td>\n",
              "    </tr>\n",
              "    <tr>\n",
              "      <th>3</th>\n",
              "      <td>b'parseattribs4(char *&amp;c, const Vec4 &amp;ival = V...</td>\n",
              "      <td>False</td>\n",
              "      <td>False</td>\n",
              "      <td>False</td>\n",
              "      <td>False</td>\n",
              "      <td>False</td>\n",
              "    </tr>\n",
              "    <tr>\n",
              "      <th>4</th>\n",
              "      <td>b'generateExecCode(CompileState* comp)\\n{\\n   ...</td>\n",
              "      <td>False</td>\n",
              "      <td>False</td>\n",
              "      <td>False</td>\n",
              "      <td>False</td>\n",
              "      <td>False</td>\n",
              "    </tr>\n",
              "  </tbody>\n",
              "</table>\n",
              "</div>"
            ],
            "text/plain": [
              "                                      functionSource  ...  CWE-other\n",
              "0  b'default_event_handler( \\n    GuiWidget *widg...  ...      False\n",
              "1  b'krb5_krbhst_init_flags(krb5_context context,...  ...      False\n",
              "2  b'swap_info_get(swp_entry_t entry)\\n{\\n\\tstruc...  ...      False\n",
              "3  b'parseattribs4(char *&c, const Vec4 &ival = V...  ...      False\n",
              "4  b'generateExecCode(CompileState* comp)\\n{\\n   ...  ...      False\n",
              "\n",
              "[5 rows x 6 columns]"
            ]
          },
          "metadata": {},
          "execution_count": 9
        }
      ]
    },
    {
      "cell_type": "code",
      "metadata": {
        "id": "UzVeo2bBQmY6"
      },
      "source": [
        "mydf.to_pickle(\"VDISC_train.pickle\")\n",
        "mydf_v.to_pickle(\"VDISC_validate.pickle\")\n",
        "mydf_ts.to_pickle(\"VDISC_test.pickle\")"
      ],
      "execution_count": 10,
      "outputs": []
    },
    {
      "cell_type": "code",
      "metadata": {
        "id": "Sqz-T9PlQlfD"
      },
      "source": [
        "train=pd.read_pickle(\"VDISC_train.pickle\")\n",
        "validate=pd.read_pickle(\"VDISC_validate.pickle\")\n",
        "test=pd.read_pickle(\"VDISC_test.pickle\")\n",
        "#print(train)"
      ],
      "execution_count": 11,
      "outputs": []
    },
    {
      "cell_type": "code",
      "metadata": {
        "id": "198bzVK8PK5p",
        "colab": {
          "base_uri": "https://localhost:8080/"
        },
        "outputId": "6d9f54dc-337e-492e-a6f8-7c262fcf700c"
      },
      "source": [
        "\n",
        "\n",
        "print(\"Tensorlfow version: \", tf.__version__)\n",
        "print(\"Eager mode: \", tf.executing_eagerly())\n",
        "print(\"GPU is\", \"available\" if tf.config.list_physical_devices('GPU') else \"NOT AVAILABLE\")"
      ],
      "execution_count": 12,
      "outputs": [
        {
          "output_type": "stream",
          "name": "stdout",
          "text": [
            "Tensorlfow version:  2.6.0\n",
            "Eager mode:  True\n",
            "GPU is available\n"
          ]
        }
      ]
    },
    {
      "cell_type": "code",
      "metadata": {
        "id": "WSrRaffeR6j7",
        "colab": {
          "base_uri": "https://localhost:8080/"
        },
        "outputId": "fc1f94f7-026c-4f40-a7e8-d2959e0aa298"
      },
      "source": [
        "myrand=71926\n",
        "np.random.seed(myrand)\n",
        "tf.random.set_seed(myrand)\n",
        "print(\"Random seed is:\",myrand)"
      ],
      "execution_count": 13,
      "outputs": [
        {
          "output_type": "stream",
          "name": "stdout",
          "text": [
            "Random seed is: 71926\n"
          ]
        }
      ]
    },
    {
      "cell_type": "code",
      "metadata": {
        "id": "8fKWA6_wR_AR"
      },
      "source": [
        "# Set the global value\n",
        "WORDS_SIZE=10000\n",
        "INPUT_SIZE=500\n",
        "NUM_CLASSES=2\n",
        "MODEL_NUM=0\n",
        "EPOCHS=10"
      ],
      "execution_count": 14,
      "outputs": []
    },
    {
      "cell_type": "code",
      "metadata": {
        "id": "MTPKcdwg1Cjz"
      },
      "source": [
        "#train=pd.read_pickle(\"VDISC_train.pickle\")\n",
        "#validate=pd.read_pickle(\"VDISC_validate.pickle\")\n",
        "#test=pd.read_pickle(\"VDISC_test.pickle\")\n",
        "\n",
        "for dataset in [train,validate,test]:\n",
        "    for col in range(1,6):\n",
        "        dataset.iloc[:,col] = dataset.iloc[:,col].map({False: 0, True: 1})"
      ],
      "execution_count": 15,
      "outputs": []
    },
    {
      "cell_type": "code",
      "metadata": {
        "id": "XDLAbc6L1G9K"
      },
      "source": [
        "x_all = train['functionSource']\n",
        "#x_all = x_all.append(validate['functionSource'])\n",
        "#x_all = x_all.append(test['functionSource'])"
      ],
      "execution_count": 16,
      "outputs": []
    },
    {
      "cell_type": "code",
      "metadata": {
        "id": "iCcVQnRm1uu2",
        "colab": {
          "base_uri": "https://localhost:8080/"
        },
        "outputId": "6f159554-70ce-415e-cfb6-0f90650750e4"
      },
      "source": [
        "pd.value_counts(train.iloc[:,1])"
      ],
      "execution_count": 17,
      "outputs": [
        {
          "output_type": "execute_result",
          "data": {
            "text/plain": [
              "0    1000185\n",
              "1      19286\n",
              "Name: CWE-119, dtype: int64"
            ]
          },
          "metadata": {},
          "execution_count": 17
        }
      ]
    },
    {
      "cell_type": "code",
      "metadata": {
        "id": "svvh1Ddr3bGm"
      },
      "source": [
        "one = train[train.iloc[:,1]==1].index.values.astype(int)\n",
        "zero = train[train.iloc[:,1]==0].index.values.astype(int)"
      ],
      "execution_count": 18,
      "outputs": []
    },
    {
      "cell_type": "code",
      "metadata": {
        "id": "5azY7ndkSh7J",
        "colab": {
          "base_uri": "https://localhost:8080/"
        },
        "outputId": "f8eb3bf9-5c81-4e6d-c040-5e130f295977"
      },
      "source": [
        "# Tokenizer with word-level\n",
        "tokenizer = tf.keras.preprocessing.text.Tokenizer(char_level=False)\n",
        "\n",
        "tokenizer.fit_on_texts([x.decode('utf-8') for x in list(x_all)])\n",
        "del(x_all)\n",
        "print('Number of tokens: ',len(tokenizer.word_counts))"
      ],
      "execution_count": 19,
      "outputs": [
        {
          "output_type": "stream",
          "name": "stdout",
          "text": [
            "Number of tokens:  1094129\n"
          ]
        }
      ]
    },
    {
      "cell_type": "code",
      "metadata": {
        "id": "0KO_-jgGYXx9"
      },
      "source": [
        "tokenizer.num_words = WORDS_SIZE"
      ],
      "execution_count": 20,
      "outputs": []
    },
    {
      "cell_type": "code",
      "metadata": {
        "id": "jl6Fo7vTYdhT",
        "colab": {
          "base_uri": "https://localhost:8080/"
        },
        "outputId": "629ec1cb-c8ce-4f62-e3c8-7a4de03c1bc1"
      },
      "source": [
        "sorted(tokenizer.word_counts.items(), key=lambda x:x[1], reverse=True)[0:10]"
      ],
      "execution_count": 21,
      "outputs": [
        {
          "output_type": "execute_result",
          "data": {
            "text/plain": [
              "[('if', 3126441),\n",
              " ('0', 2106459),\n",
              " ('return', 1745333),\n",
              " ('i', 1375259),\n",
              " ('1', 1186857),\n",
              " ('int', 1016932),\n",
              " ('null', 975347),\n",
              " ('the', 791897),\n",
              " ('t', 733766),\n",
              " ('n', 716010)]"
            ]
          },
          "metadata": {},
          "execution_count": 21
        }
      ]
    },
    {
      "cell_type": "code",
      "metadata": {
        "id": "doi00kg-_ECw"
      },
      "source": [
        "list_tokenized_train = tokenizer.texts_to_sequences([x.decode('utf-8') for x in train['functionSource']])\n",
        "#\n",
        "x_train = tf.keras.preprocessing.sequence.pad_sequences(list_tokenized_train, \n",
        "                                  maxlen=INPUT_SIZE,\n",
        "                                  padding='post')\n",
        "x_train = x_train.astype(np.int64)\n",
        "## Tokkenizing test data and create matrix\n",
        "list_tokenized_test = tokenizer.texts_to_sequences([x.decode('utf-8') for x in test['functionSource']])\n",
        "x_test = tf.keras.preprocessing.sequence.pad_sequences(list_tokenized_test, \n",
        "                                 maxlen=INPUT_SIZE,\n",
        "                                 padding='post')\n",
        "x_test = x_test.astype(np.int64)\n",
        "list_tokenized_validate = tokenizer.texts_to_sequences([x.decode('utf-8') for x in validate['functionSource']])\n",
        "x_validate = tf.keras.preprocessing.sequence.pad_sequences(list_tokenized_validate, \n",
        "                                 maxlen=INPUT_SIZE,\n",
        "                                 padding='post')\n",
        "x_validate = x_validate.astype(np.int64)"
      ],
      "execution_count": 22,
      "outputs": []
    },
    {
      "cell_type": "code",
      "metadata": {
        "id": "JnTMzoNCEyhu",
        "colab": {
          "base_uri": "https://localhost:8080/"
        },
        "outputId": "7bc2cbef-efae-4b23-e15e-b3069eac5f11"
      },
      "source": [
        "print('Train', pd.value_counts(train.iloc[:,1]))\n",
        "print('\\nTest', pd.value_counts(test.iloc[:,1]))\n",
        "print('\\nValidate', pd.value_counts(validate.iloc[:,1]))"
      ],
      "execution_count": 23,
      "outputs": [
        {
          "output_type": "stream",
          "name": "stdout",
          "text": [
            "Train 0    1000185\n",
            "1      19286\n",
            "Name: CWE-119, dtype: int64\n",
            "\n",
            "Test 0    124967\n",
            "1      2452\n",
            "Name: CWE-119, dtype: int64\n",
            "\n",
            "Validate 0    125057\n",
            "1      2419\n",
            "Name: CWE-119, dtype: int64\n"
          ]
        }
      ]
    },
    {
      "cell_type": "markdown",
      "metadata": {
        "id": "4VBioG351eSJ"
      },
      "source": [
        "# One-Hot-Enconding the datasets"
      ]
    },
    {
      "cell_type": "code",
      "metadata": {
        "id": "0wlgCgSJE9Et"
      },
      "source": [
        "y_train=[]\n",
        "y_test=[]\n",
        "y_validate=[]\n",
        "\n",
        "for col in range(1,6):\n",
        "    y_train.append(tf.keras.utils.to_categorical(train.iloc[:,col], num_classes=NUM_CLASSES).astype(np.int64))\n",
        "    y_test.append(tf.keras.utils.to_categorical(test.iloc[:,col], num_classes=NUM_CLASSES).astype(np.int64))\n",
        "    y_validate.append(tf.keras.utils.to_categorical(validate.iloc[:,col], num_classes=NUM_CLASSES).astype(np.int64))"
      ],
      "execution_count": 25,
      "outputs": []
    },
    {
      "cell_type": "code",
      "metadata": {
        "id": "SYMUon5CHhzA",
        "colab": {
          "base_uri": "https://localhost:8080/"
        },
        "outputId": "092970a6-759b-4e95-ffa1-7d90bff2897c"
      },
      "source": [
        "pd.value_counts(y_test[0][:,1])"
      ],
      "execution_count": 26,
      "outputs": [
        {
          "output_type": "execute_result",
          "data": {
            "text/plain": [
              "0    124967\n",
              "1      2452\n",
              "dtype: int64"
            ]
          },
          "metadata": {},
          "execution_count": 26
        }
      ]
    },
    {
      "cell_type": "code",
      "metadata": {
        "id": "VklY-ZUiH65W"
      },
      "source": [
        "random_weights = np.random.normal(size=(WORDS_SIZE, 13),scale=0.01)"
      ],
      "execution_count": 27,
      "outputs": []
    },
    {
      "cell_type": "markdown",
      "metadata": {
        "id": "GGEIKyAqIKa1"
      },
      "source": [
        "CNN with Gaussian Noise and 1 Output Split"
      ]
    },
    {
      "cell_type": "code",
      "metadata": {
        "id": "mObnFnvZIOad",
        "colab": {
          "base_uri": "https://localhost:8080/"
        },
        "outputId": "4bb48b05-2af8-46e2-eb56-1d5623739a8d"
      },
      "source": [
        "model = tf.keras.Sequential(name=\"CNN\")\n",
        "model.add(tf.keras.layers.Embedding(input_dim = WORDS_SIZE,\n",
        "                                    output_dim = 13,\n",
        "                                    weights=[random_weights],\n",
        "                                    input_length = INPUT_SIZE))\n",
        "#model.add(tf.keras.layers.GaussianNoise(stddev=0.01))\n",
        "model.add(tf.keras.layers.Convolution1D(filters=512, kernel_size=(9), padding='same', activation='relu'))\n",
        "model.add(tf.keras.layers.MaxPool1D(pool_size=5))\n",
        "model.add(tf.keras.layers.Dropout(0.5))\n",
        "model.add(tf.keras.layers.Flatten())\n",
        "model.add(tf.keras.layers.Dense(64, activation='relu'))\n",
        "model.add(tf.keras.layers.Dense(16, activation='relu'))\n",
        "model.add(tf.keras.layers.Dense(1, activation='sigmoid'))\n",
        "\n",
        "# Define custom optimizers\n",
        "adam = tf.keras.optimizers.Adam(lr=0.005, beta_1=0.9, beta_2=0.999, epsilon=1, decay=0.0, amsgrad=False)\n",
        "\n",
        "## Compile model with metrics\n",
        "model.compile(optimizer=adam, loss='binary_crossentropy', metrics=['accuracy'])\n",
        "print(\"CNN model built: \")\n",
        "model.summary()"
      ],
      "execution_count": 28,
      "outputs": [
        {
          "output_type": "stream",
          "name": "stdout",
          "text": [
            "CNN model built: \n",
            "Model: \"CNN\"\n",
            "_________________________________________________________________\n",
            "Layer (type)                 Output Shape              Param #   \n",
            "=================================================================\n",
            "embedding (Embedding)        (None, 500, 13)           130000    \n",
            "_________________________________________________________________\n",
            "conv1d (Conv1D)              (None, 500, 512)          60416     \n",
            "_________________________________________________________________\n",
            "max_pooling1d (MaxPooling1D) (None, 100, 512)          0         \n",
            "_________________________________________________________________\n",
            "dropout (Dropout)            (None, 100, 512)          0         \n",
            "_________________________________________________________________\n",
            "flatten (Flatten)            (None, 51200)             0         \n",
            "_________________________________________________________________\n",
            "dense (Dense)                (None, 64)                3276864   \n",
            "_________________________________________________________________\n",
            "dense_1 (Dense)              (None, 16)                1040      \n",
            "_________________________________________________________________\n",
            "dense_2 (Dense)              (None, 1)                 17        \n",
            "=================================================================\n",
            "Total params: 3,468,337\n",
            "Trainable params: 3,468,337\n",
            "Non-trainable params: 0\n",
            "_________________________________________________________________\n"
          ]
        },
        {
          "output_type": "stream",
          "name": "stderr",
          "text": [
            "/usr/local/lib/python3.7/dist-packages/keras/optimizer_v2/optimizer_v2.py:356: UserWarning: The `lr` argument is deprecated, use `learning_rate` instead.\n",
            "  \"The `lr` argument is deprecated, use `learning_rate` instead.\")\n"
          ]
        }
      ]
    },
    {
      "cell_type": "code",
      "metadata": {
        "id": "T6Z14Su-MjOA"
      },
      "source": [
        "callbackdir= 'D:\\\\temp\\\\cb'\n",
        "\n",
        "tbCallback = tf.keras.callbacks.TensorBoard(log_dir=callbackdir, \n",
        "                         histogram_freq=1,\n",
        "                         embeddings_freq=1,\n",
        "                         write_graph=True, \n",
        "                         write_images=True)\n",
        "\n",
        "tbCallback.set_model(model)\n",
        "mld = 'model/model-epoch-100-{epoch:02d}-single.hdf5'\n",
        "\n",
        "## Create best model callback\n",
        "mcp = tf.keras.callbacks.ModelCheckpoint(filepath=mld, \n",
        "                                         monitor=\"val_loss\",\n",
        "                                         save_best_only=True, \n",
        "                                         mode='auto', \n",
        "                                         save_freq='epoch', \n",
        "                                         verbose=1)"
      ],
      "execution_count": 29,
      "outputs": []
    },
    {
      "cell_type": "code",
      "metadata": {
        "id": "Ppk8AyTRMp--"
      },
      "source": [
        "#ceiling = 38572\n",
        "#ceiling = ‭19286\n",
        "ceiling = 1019471\n",
        "\n",
        "class_weights = {0: 1., 1: 5.}\n",
        "\n",
        "history = model.fit(x = x_train[[*one,*zero[0:ceiling]],:],\n",
        "          y = train.iloc[[*one,*zero[0:ceiling]],1].to_numpy(),\n",
        "          validation_data = (x_validate, validate.iloc[:,1].to_numpy()),\n",
        "          epochs = 40,\n",
        "          batch_size = 128,\n",
        "          verbose =2,\n",
        "          class_weight= class_weights,\n",
        "          callbacks=[mcp,tbCallback])\n",
        "\n",
        "with open('history/history-Epoch40-CNN-single', 'wb') as file_pi:\n",
        "    pickle.dump(history.history, file_pi)"
      ],
      "execution_count": null,
      "outputs": []
    },
    {
      "cell_type": "code",
      "metadata": {
        "id": "Ibu04nzDOYJ5"
      },
      "source": [
        "model = tf.keras.models.load_model(\"model/model-epoch-100-36-single.hdf5\")"
      ],
      "execution_count": null,
      "outputs": []
    }
  ]
}